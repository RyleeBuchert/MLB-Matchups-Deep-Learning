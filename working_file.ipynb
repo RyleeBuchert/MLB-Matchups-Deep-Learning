{
 "cells": [
  {
   "cell_type": "code",
   "execution_count": 17,
   "metadata": {},
   "outputs": [],
   "source": [
    "import pandas as pd\n",
    "import statsapi\n",
    "import datetime\n",
    "import string\n",
    "import json\n",
    "import os\n",
    "\n",
    "from bs4 import BeautifulSoup\n",
    "import requests\n"
   ]
  },
  {
   "cell_type": "code",
   "execution_count": 24,
   "metadata": {},
   "outputs": [],
   "source": [
    "player_search = pd.read_csv(\"data\\\\player_search.csv\", encoding = \"ISO-8859-1\")\n",
    "team_search = pd.read_csv(\"data\\\\team_search.csv\")\n",
    "\n",
    "wOBA_constants = pd.read_csv(\"data\\\\wOBA_constants.csv\", index_col=0)\n",
    "park_factors = pd.read_csv(\"data\\\\park_factors.csv\", index_col=0)\n",
    "league_averages = pd.read_csv(\"data\\\\league_averages.csv\", index_col=0)\n",
    "\n",
    "with open('data\\\\batter_hands.json') as f:\n",
    "    batter_hands = json.load(f)\n",
    "with open('data\\\\pitcher_hands.json') as f:\n",
    "    pitcher_hands = json.load(f)\n"
   ]
  },
  {
   "cell_type": "code",
   "execution_count": null,
   "metadata": {},
   "outputs": [],
   "source": [
    "def adv_matchup(row):\n",
    "    val = 0\n",
    "    if row['batter_hand'] == 'S':\n",
    "        val = 1\n",
    "    elif row['batter_hand'] == 'R' and row['pitcher_hand'] == 'L':\n",
    "        val = 1\n",
    "    elif row['batter_hand'] == 'L' and row['pitcher_hand'] == 'R':\n",
    "        val = 1\n",
    "    return val\n",
    "\n",
    "for file in os.scandir(\"data\\\\matchups\"):\n",
    "    matchups = pd.read_csv(file, index_col=0)\n",
    "    matchups['adv_ab'] = matchups.apply(adv_matchup, axis=1)\n",
    "    matchups.to_csv(f\"data\\\\matchups\\\\{file.name}\")\n"
   ]
  },
  {
   "cell_type": "code",
   "execution_count": 18,
   "metadata": {},
   "outputs": [],
   "source": [
    "matchups = pd.read_csv(\"data\\\\matchups\\\\2015_matchups.csv\")"
   ]
  },
  {
   "cell_type": "code",
   "execution_count": 26,
   "metadata": {},
   "outputs": [
    {
     "name": "stdout",
     "output_type": "stream",
     "text": [
      "\n",
      "\n",
      "\n",
      "\n",
      "\n",
      "\n"
     ]
    },
    {
     "ename": "KeyboardInterrupt",
     "evalue": "",
     "output_type": "error",
     "traceback": [
      "\u001b[1;31m---------------------------------------------------------------------------\u001b[0m",
      "\u001b[1;31mKeyboardInterrupt\u001b[0m                         Traceback (most recent call last)",
      "\u001b[1;32mc:\\Projects\\MLB-Matchups-Deep-Learning\\working_file.ipynb Cell 5\u001b[0m in \u001b[0;36m<module>\u001b[1;34m\u001b[0m\n\u001b[0;32m      <a href='vscode-notebook-cell:/c%3A/Projects/MLB-Matchups-Deep-Learning/working_file.ipynb#W4sZmlsZQ%3D%3D?line=0'>1</a>\u001b[0m \u001b[39m# Platoon statistics\u001b[39;00m\n\u001b[0;32m      <a href='vscode-notebook-cell:/c%3A/Projects/MLB-Matchups-Deep-Learning/working_file.ipynb#W4sZmlsZQ%3D%3D?line=1'>2</a>\u001b[0m \u001b[39mfor\u001b[39;00m index, row \u001b[39min\u001b[39;00m matchups\u001b[39m.\u001b[39miterrows():\n\u001b[1;32m----> <a href='vscode-notebook-cell:/c%3A/Projects/MLB-Matchups-Deep-Learning/working_file.ipynb#W4sZmlsZQ%3D%3D?line=2'>3</a>\u001b[0m     platoon_history \u001b[39m=\u001b[39m matchups\u001b[39m.\u001b[39mloc[(matchups[\u001b[39m'\u001b[39;49m\u001b[39mbatter_id\u001b[39;49m\u001b[39m'\u001b[39;49m] \u001b[39m==\u001b[39;49m row[\u001b[39m'\u001b[39;49m\u001b[39mbatter_id\u001b[39;49m\u001b[39m'\u001b[39;49m]) \u001b[39m&\u001b[39;49m (matchups[\u001b[39m'\u001b[39;49m\u001b[39mpitcher_hand\u001b[39;49m\u001b[39m'\u001b[39;49m] \u001b[39m==\u001b[39;49m row[\u001b[39m'\u001b[39;49m\u001b[39mpitcher_hand\u001b[39;49m\u001b[39m'\u001b[39;49m])]\n\u001b[0;32m      <a href='vscode-notebook-cell:/c%3A/Projects/MLB-Matchups-Deep-Learning/working_file.ipynb#W4sZmlsZQ%3D%3D?line=4'>5</a>\u001b[0m     num_pa \u001b[39m=\u001b[39m \u001b[39mlen\u001b[39m(platoon_history)\n\u001b[0;32m      <a href='vscode-notebook-cell:/c%3A/Projects/MLB-Matchups-Deep-Learning/working_file.ipynb#W4sZmlsZQ%3D%3D?line=5'>6</a>\u001b[0m     outcomes \u001b[39m=\u001b[39m platoon_history\u001b[39m.\u001b[39mgroupby([\u001b[39m'\u001b[39m\u001b[39moutcome\u001b[39m\u001b[39m'\u001b[39m])\u001b[39m.\u001b[39msize()\n",
      "File \u001b[1;32m~\\AppData\\Local\\Packages\\PythonSoftwareFoundation.Python.3.9_qbz5n2kfra8p0\\LocalCache\\local-packages\\Python39\\site-packages\\pandas\\core\\ops\\common.py:70\u001b[0m, in \u001b[0;36m_unpack_zerodim_and_defer.<locals>.new_method\u001b[1;34m(self, other)\u001b[0m\n\u001b[0;32m     66\u001b[0m             \u001b[39mreturn\u001b[39;00m \u001b[39mNotImplemented\u001b[39m\n\u001b[0;32m     68\u001b[0m other \u001b[39m=\u001b[39m item_from_zerodim(other)\n\u001b[1;32m---> 70\u001b[0m \u001b[39mreturn\u001b[39;00m method(\u001b[39mself\u001b[39;49m, other)\n",
      "File \u001b[1;32m~\\AppData\\Local\\Packages\\PythonSoftwareFoundation.Python.3.9_qbz5n2kfra8p0\\LocalCache\\local-packages\\Python39\\site-packages\\pandas\\core\\arraylike.py:70\u001b[0m, in \u001b[0;36mOpsMixin.__and__\u001b[1;34m(self, other)\u001b[0m\n\u001b[0;32m     68\u001b[0m \u001b[39m@unpack_zerodim_and_defer\u001b[39m(\u001b[39m\"\u001b[39m\u001b[39m__and__\u001b[39m\u001b[39m\"\u001b[39m)\n\u001b[0;32m     69\u001b[0m \u001b[39mdef\u001b[39;00m \u001b[39m__and__\u001b[39m(\u001b[39mself\u001b[39m, other):\n\u001b[1;32m---> 70\u001b[0m     \u001b[39mreturn\u001b[39;00m \u001b[39mself\u001b[39;49m\u001b[39m.\u001b[39;49m_logical_method(other, operator\u001b[39m.\u001b[39;49mand_)\n",
      "File \u001b[1;32m~\\AppData\\Local\\Packages\\PythonSoftwareFoundation.Python.3.9_qbz5n2kfra8p0\\LocalCache\\local-packages\\Python39\\site-packages\\pandas\\core\\series.py:5631\u001b[0m, in \u001b[0;36mSeries._logical_method\u001b[1;34m(self, other, op)\u001b[0m\n\u001b[0;32m   5628\u001b[0m lvalues \u001b[39m=\u001b[39m \u001b[39mself\u001b[39m\u001b[39m.\u001b[39m_values\n\u001b[0;32m   5629\u001b[0m rvalues \u001b[39m=\u001b[39m extract_array(other, extract_numpy\u001b[39m=\u001b[39m\u001b[39mTrue\u001b[39;00m, extract_range\u001b[39m=\u001b[39m\u001b[39mTrue\u001b[39;00m)\n\u001b[1;32m-> 5631\u001b[0m res_values \u001b[39m=\u001b[39m ops\u001b[39m.\u001b[39;49mlogical_op(lvalues, rvalues, op)\n\u001b[0;32m   5632\u001b[0m \u001b[39mreturn\u001b[39;00m \u001b[39mself\u001b[39m\u001b[39m.\u001b[39m_construct_result(res_values, name\u001b[39m=\u001b[39mres_name)\n",
      "File \u001b[1;32m~\\AppData\\Local\\Packages\\PythonSoftwareFoundation.Python.3.9_qbz5n2kfra8p0\\LocalCache\\local-packages\\Python39\\site-packages\\pandas\\core\\ops\\array_ops.py:381\u001b[0m, in \u001b[0;36mlogical_op\u001b[1;34m(left, right, op)\u001b[0m\n\u001b[0;32m    379\u001b[0m \u001b[39mif\u001b[39;00m \u001b[39misinstance\u001b[39m(rvalues, np\u001b[39m.\u001b[39mndarray):\n\u001b[0;32m    380\u001b[0m     is_other_int_dtype \u001b[39m=\u001b[39m is_integer_dtype(rvalues\u001b[39m.\u001b[39mdtype)\n\u001b[1;32m--> 381\u001b[0m     rvalues \u001b[39m=\u001b[39m rvalues \u001b[39mif\u001b[39;00m is_other_int_dtype \u001b[39melse\u001b[39;00m fill_bool(rvalues, lvalues)\n\u001b[0;32m    383\u001b[0m \u001b[39melse\u001b[39;00m:\n\u001b[0;32m    384\u001b[0m     \u001b[39m# i.e. scalar\u001b[39;00m\n\u001b[0;32m    385\u001b[0m     is_other_int_dtype \u001b[39m=\u001b[39m lib\u001b[39m.\u001b[39mis_integer(rvalues)\n",
      "File \u001b[1;32m~\\AppData\\Local\\Packages\\PythonSoftwareFoundation.Python.3.9_qbz5n2kfra8p0\\LocalCache\\local-packages\\Python39\\site-packages\\pandas\\core\\ops\\array_ops.py:360\u001b[0m, in \u001b[0;36mlogical_op.<locals>.fill_bool\u001b[1;34m(x, left)\u001b[0m\n\u001b[0;32m    357\u001b[0m         x[mask] \u001b[39m=\u001b[39m \u001b[39mFalse\u001b[39;00m\n\u001b[0;32m    359\u001b[0m \u001b[39mif\u001b[39;00m left \u001b[39mis\u001b[39;00m \u001b[39mNone\u001b[39;00m \u001b[39mor\u001b[39;00m is_bool_dtype(left\u001b[39m.\u001b[39mdtype):\n\u001b[1;32m--> 360\u001b[0m     x \u001b[39m=\u001b[39m x\u001b[39m.\u001b[39;49mastype(\u001b[39mbool\u001b[39;49m)\n\u001b[0;32m    361\u001b[0m \u001b[39mreturn\u001b[39;00m x\n",
      "\u001b[1;31mKeyboardInterrupt\u001b[0m: "
     ]
    }
   ],
   "source": [
    "# Platoon statistics\n",
    "for index, row in matchups.iterrows():\n",
    "    platoon_history = matchups.loc[(matchups['batter_id'] == row['batter_id']) & (matchups['pitcher_hand'] == row['pitcher_hand'])]\n",
    "\n",
    "    num_pa = len(platoon_history)\n",
    "    outcomes = platoon_history.groupby(['outcome']).size()\n",
    "    indexes = outcomes.index.tolist()\n",
    "\n",
    "    singles = 0\n",
    "    for event in ['h_S1','h_S2','h_S3','h_S4','h_S5','h_S6','h_S7','h_S8','h_S9']:\n",
    "        if event in indexes:\n",
    "            singles += outcomes[event]\n",
    "\n",
    "    doubles = 0\n",
    "    for event in ['h_D1','h_D2','h_D3','h_D4','h_D5','h_D6','h_D7','h_D8','h_D9']:\n",
    "        if event in indexes:\n",
    "            singles += outcomes[event]\n",
    "\n",
    "    triples = 0\n",
    "    for event in ['h_T1','h_T2','h_T3','h_T4','h_T5','h_T6','h_T7','h_T8','h_T9']:\n",
    "        if event in indexes:\n",
    "            singles += outcomes[event]\n",
    "\n",
    "    home_runs = 0\n",
    "    if 'h_HR' in indexes:\n",
    "        home_runs += outcomes['h_HR']\n",
    "\n",
    "    bb = 0\n",
    "    if 'p_W' in indexes:\n",
    "        bb += outcomes['p_W']\n",
    "\n",
    "    ibb = 0\n",
    "    if 'IW' in indexes:\n",
    "        ibb += outcomes['IW']\n",
    "\n",
    "    hbp = 0\n",
    "    if 'HP' in indexes:\n",
    "        hbp += outcomes['HP']\n",
    "\n",
    "    at_bats = outcomes.sum()-bb-hbp\n",
    "\n",
    "    wOBA_row = wOBA_constants.loc['Average']\n",
    "    wOBA_num = (wOBA_row['wBB']*bb)+(wOBA_row['wHBP']*hbp)+(wOBA_row['w1B']*singles)+(wOBA_row['w2B']*doubles)+(wOBA_row['w3B']*triples)+(wOBA_row['wHR']*home_runs)\n",
    "    wOBA_denom = at_bats + (bb - ibb) + hbp\n",
    "\n",
    "    if wOBA_denom:\n",
    "        wOBA = round(wOBA_num/wOBA_denom, 3)\n",
    "    else:\n",
    "        wOBA = 0\n",
    "\n",
    "    print()\n"
   ]
  }
 ],
 "metadata": {
  "kernelspec": {
   "display_name": "Python 3.9.13 64-bit (windows store)",
   "language": "python",
   "name": "python3"
  },
  "language_info": {
   "codemirror_mode": {
    "name": "ipython",
    "version": 3
   },
   "file_extension": ".py",
   "mimetype": "text/x-python",
   "name": "python",
   "nbconvert_exporter": "python",
   "pygments_lexer": "ipython3",
   "version": "3.9.13"
  },
  "orig_nbformat": 4,
  "vscode": {
   "interpreter": {
    "hash": "e68145d8c49e479fca897df90d914ed858565e3c5b8a275a80c2ccceb8e747e5"
   }
  }
 },
 "nbformat": 4,
 "nbformat_minor": 2
}
