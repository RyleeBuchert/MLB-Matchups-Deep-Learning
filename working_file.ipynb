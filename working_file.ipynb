{
 "cells": [
  {
   "cell_type": "code",
   "execution_count": null,
   "metadata": {},
   "outputs": [],
   "source": [
    "from bs4 import BeautifulSoup\n",
    "import requests\n",
    "import pandas as pd\n",
    "import statsapi\n",
    "import datetime\n",
    "import string\n",
    "import json\n",
    "import os"
   ]
  },
  {
   "cell_type": "code",
   "execution_count": null,
   "metadata": {},
   "outputs": [],
   "source": [
    "# Comprehensive matchups file\n",
    "matchups = pd.read_csv(\"data\\\\matchups\\\\all_matchups.csv\", index_col=0)\n",
    "\n",
    "batter_list = list(matchups['batter_id'].unique())\n",
    "batter_list.sort()\n",
    "\n",
    "pitcher_list = list(matchups['pitcher_id'].unique())\n",
    "pitcher_list.sort()"
   ]
  },
  {
   "cell_type": "code",
   "execution_count": null,
   "metadata": {},
   "outputs": [],
   "source": [
    "# Player/Team lookup files\n",
    "player_search = pd.read_csv(\"data\\\\player_search.csv\", encoding = \"ISO-8859-1\")\n",
    "team_search = pd.read_csv(\"data\\\\team_search.csv\")\n",
    "\n",
    "# Constants\n",
    "wOBA_constants = pd.read_csv(\"data\\\\wOBA_constants.csv\", index_col=0)\n",
    "park_factors = pd.read_csv(\"data\\\\park_factors.csv\", index_col=0)\n",
    "league_averages = pd.read_csv(\"data\\\\league_averages.csv\", index_col=0)"
   ]
  },
  {
   "cell_type": "code",
   "execution_count": null,
   "metadata": {},
   "outputs": [],
   "source": [
    "# Player hands dictionaries\n",
    "with open('data\\\\batter_hands.json') as f:\n",
    "    batter_hands = json.load(f)\n",
    "with open('data\\\\pitcher_hands.json') as f:\n",
    "    pitcher_hands = json.load(f)\n",
    "\n",
    "# Player platoon stats dictionary\n",
    "with open('data\\\\batter_platoons.json') as f:\n",
    "    batter_platoons = json.load(f)\n",
    "with open('data\\\\pitcher_platoons.json') as f:\n",
    "    pitcher_platoons = json.load(f)"
   ]
  },
  {
   "cell_type": "code",
   "execution_count": null,
   "metadata": {},
   "outputs": [],
   "source": [
    "def add_platoon_stats(row):\n",
    "    try:\n",
    "        row['h_platoon_ab'] = batter_platoons[f\"{row['batter_id']}\"][row['pitcher_hand']][0]\n",
    "    except:\n",
    "        row['h_platoon_ab'] = 0\n",
    "\n",
    "    try:\n",
    "        row['h_platoon_wOBA'] = batter_platoons[f\"{row['batter_id']}\"][row['pitcher_hand']][1]\n",
    "    except:\n",
    "        row['h_platoon_wOBA'] = 0\n",
    "        \n",
    "    try:\n",
    "        row['p_platoon_ab'] = pitcher_platoons[f\"{row['pitcher_id']}\"][row['batter_hand']][0]\n",
    "    except:\n",
    "        row['p_platoon_ab'] = 0\n",
    "\n",
    "    try:\n",
    "        row['p_platoon_wOBA'] = pitcher_platoons[f\"{row['pitcher_id']}\"][row['batter_hand']][1]\n",
    "    except: \n",
    "        row['p_platoon_wOBA'] = 0\n",
    "\n",
    "    return(row)\n",
    "\n",
    "\n",
    "matchups[['h_platoon_ab','h_platoon_wOBA','p_platoon_ab','p_platoon_wOBA']] = 0\n",
    "matchups = matchups.apply(add_platoon_stats, axis=1)"
   ]
  },
  {
   "cell_type": "code",
   "execution_count": null,
   "metadata": {},
   "outputs": [],
   "source": [
    "def add_h2h_stats(row):\n",
    "    h2h_stats = matchups.loc[(matchups['batter_id'] == row['batter_id']) & (matchups['pitcher_id'] == row['pitcher_id'])]\n",
    "\n",
    "    num_pa = len(h2h_stats)\n",
    "    outcomes = h2h_stats.groupby(['outcome']).size()\n",
    "    indexes = outcomes.index.tolist()\n",
    "\n",
    "    singles = 0\n",
    "    for event in ['h_S1','h_S2','h_S3','h_S4','h_S5','h_S6','h_S7','h_S8','h_S9']:\n",
    "        if event in indexes:\n",
    "            singles += int(outcomes[event])\n",
    "\n",
    "    doubles = 0\n",
    "    for event in ['h_D1','h_D2','h_D3','h_D4','h_D5','h_D6','h_D7','h_D8','h_D9']:\n",
    "        if event in indexes:\n",
    "            doubles += int(outcomes[event])\n",
    "\n",
    "    triples = 0\n",
    "    for event in ['h_T1','h_T2','h_T3','h_T4','h_T5','h_T6','h_T7','h_T8','h_T9']:\n",
    "        if event in indexes:\n",
    "            triples += int(outcomes[event])\n",
    "\n",
    "    home_runs = 0\n",
    "    if 'h_HR' in indexes:\n",
    "        home_runs += int(outcomes['h_HR'])\n",
    "\n",
    "    bb = 0\n",
    "    if 'p_W' in indexes:\n",
    "        bb += int(outcomes['p_W'])\n",
    "\n",
    "    ibb = 0\n",
    "    if 'IW' in indexes:\n",
    "        ibb += int(outcomes['IW'])\n",
    "\n",
    "    k = 0\n",
    "    if 'p_K' in indexes:\n",
    "        k += int(outcomes['p_K'])\n",
    "\n",
    "    hbp = 0\n",
    "    if 'HP' in indexes:\n",
    "        hbp += int(outcomes['HP'])\n",
    "\n",
    "    at_bats = outcomes.sum()-bb-hbp\n",
    "\n",
    "    wOBA_row = wOBA_constants.loc['Average']\n",
    "    wOBA_num = (wOBA_row['wBB']*bb)+(wOBA_row['wHBP']*hbp)+(wOBA_row['w1B']*singles)+(wOBA_row['w2B']*doubles)+(wOBA_row['w3B']*triples)+(wOBA_row['wHR']*home_runs)\n",
    "    wOBA_denom = at_bats + (bb - ibb) + hbp\n",
    "\n",
    "    if wOBA_denom:\n",
    "        wOBA = round(wOBA_num/wOBA_denom, 3)\n",
    "    else:\n",
    "        wOBA = 0\n",
    "\n",
    "    row['h2h_wOBA']  = wOBA\n",
    "    row['h2h_pa']    = num_pa\n",
    "    row['h2h_1B_pa'] = round(singles/num_pa, 3)\n",
    "    row['h2h_2B_pa'] = round(doubles/num_pa, 3)\n",
    "    row['h2h_3B_pa'] = round(triples/num_pa, 3)\n",
    "    row['h2h_HR_pa'] = round(home_runs/num_pa, 3)\n",
    "    row['h2h_BB_pa'] = round(bb/num_pa, 3)\n",
    "    row['h2h_K_pa']  = round(k/num_pa, 3)\n",
    "\n",
    "    return(row)\n",
    "\n",
    "\n",
    "matchups = matchups.apply(add_h2h_stats, axis=1)\n",
    "matchups.to_csv(\"data\\\\matchups\\\\all_matchups_test.csv\")"
   ]
  }
 ],
 "metadata": {
  "kernelspec": {
   "display_name": "Python 3.10.6 64-bit",
   "language": "python",
   "name": "python3"
  },
  "language_info": {
   "codemirror_mode": {
    "name": "ipython",
    "version": 3
   },
   "file_extension": ".py",
   "mimetype": "text/x-python",
   "name": "python",
   "nbconvert_exporter": "python",
   "pygments_lexer": "ipython3",
   "version": "3.10.6"
  },
  "orig_nbformat": 4,
  "vscode": {
   "interpreter": {
    "hash": "fb4569285eef3a3450cb62085a5b1e0da4bce0af555edc33dcf29baf3acc1368"
   }
  }
 },
 "nbformat": 4,
 "nbformat_minor": 2
}
