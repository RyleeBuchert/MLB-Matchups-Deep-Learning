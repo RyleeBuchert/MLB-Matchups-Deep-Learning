{
 "cells": [
  {
   "cell_type": "code",
   "execution_count": 1,
   "metadata": {},
   "outputs": [],
   "source": [
    "from bs4 import BeautifulSoup\n",
    "import requests\n",
    "import pandas as pd\n",
    "import statsapi\n",
    "import datetime\n",
    "import string\n",
    "import json\n",
    "import os"
   ]
  },
  {
   "cell_type": "code",
   "execution_count": 3,
   "metadata": {},
   "outputs": [],
   "source": [
    "# Comprehensive matchups file\n",
    "matchups = pd.read_csv(\"data\\\\matchups\\\\all_matchups.csv\", index_col=0)\n",
    "\n",
    "batter_list = list(matchups['batter_id'].unique())\n",
    "batter_list.sort()\n",
    "\n",
    "pitcher_list = list(matchups['pitcher_id'].unique())\n",
    "pitcher_list.sort()"
   ]
  },
  {
   "cell_type": "code",
   "execution_count": 2,
   "metadata": {},
   "outputs": [],
   "source": [
    "# Player/Team lookup files\n",
    "player_search = pd.read_csv(\"data\\\\player_search.csv\", encoding = \"ISO-8859-1\")\n",
    "team_search = pd.read_csv(\"data\\\\team_search.csv\")\n",
    "\n",
    "# Constants\n",
    "wOBA_constants = pd.read_csv(\"data\\\\wOBA_constants.csv\", index_col=0)\n",
    "park_factors = pd.read_csv(\"data\\\\park_factors.csv\", index_col=0)\n",
    "league_averages = pd.read_csv(\"data\\\\league_averages.csv\", index_col=0)"
   ]
  },
  {
   "cell_type": "code",
   "execution_count": 4,
   "metadata": {},
   "outputs": [
    {
     "name": "stdout",
     "output_type": "stream",
     "text": [
      "\n"
     ]
    }
   ],
   "source": [
    "# Player hands dictionaries\n",
    "with open('data\\\\batter_hands.json') as f:\n",
    "    batter_hands = json.load(f)\n",
    "with open('data\\\\pitcher_hands.json') as f:\n",
    "    pitcher_hands = json.load(f)\n",
    "\n",
    "# Player platoon stats dictionary\n",
    "with open('data\\\\batter_platoons.json') as f:\n",
    "    batter_platoons = json.load(f)\n",
    "with open('data\\\\pitcher_platoons.json') as f:\n",
    "    pitcher_platoons = json.load(f)"
   ]
  },
  {
   "cell_type": "code",
   "execution_count": null,
   "metadata": {},
   "outputs": [],
   "source": []
  }
 ],
 "metadata": {
  "kernelspec": {
   "display_name": "Python 3.10.6 64-bit",
   "language": "python",
   "name": "python3"
  },
  "language_info": {
   "codemirror_mode": {
    "name": "ipython",
    "version": 3
   },
   "file_extension": ".py",
   "mimetype": "text/x-python",
   "name": "python",
   "nbconvert_exporter": "python",
   "pygments_lexer": "ipython3",
   "version": "3.10.6"
  },
  "orig_nbformat": 4,
  "vscode": {
   "interpreter": {
    "hash": "fb4569285eef3a3450cb62085a5b1e0da4bce0af555edc33dcf29baf3acc1368"
   }
  }
 },
 "nbformat": 4,
 "nbformat_minor": 2
}
