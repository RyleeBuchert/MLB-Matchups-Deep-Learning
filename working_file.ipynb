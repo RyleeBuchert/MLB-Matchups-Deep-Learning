{
 "cells": [
  {
   "cell_type": "code",
   "execution_count": null,
   "metadata": {},
   "outputs": [],
   "source": [
    "import pandas as pd\n",
    "import statsapi\n",
    "import datetime\n",
    "import string\n",
    "import json\n",
    "import os\n",
    "\n",
    "from bs4 import BeautifulSoup\n",
    "import requests\n"
   ]
  },
  {
   "cell_type": "code",
   "execution_count": null,
   "metadata": {},
   "outputs": [],
   "source": [
    "player_search = pd.read_csv(\"data\\\\player_search.csv\", encoding = \"ISO-8859-1\")\n",
    "team_search = pd.read_csv(\"data\\\\team_search.csv\")\n",
    "\n",
    "wOBA_constants = pd.read_csv(\"data\\\\wOBA_constants.csv\", index_col=0)\n",
    "park_factors = pd.read_csv(\"data\\\\park_factors.csv\", index_col=0)\n",
    "league_averages = pd.read_csv(\"data\\\\league_averages.csv\", index_col=0)\n",
    "\n",
    "with open('data\\\\batter_hands.json') as f:\n",
    "    batter_hands = json.load(f)\n",
    "with open('data\\\\pitcher_hands.json') as f:\n",
    "    pitcher_hands = json.load(f)\n"
   ]
  },
  {
   "cell_type": "code",
   "execution_count": null,
   "metadata": {},
   "outputs": [],
   "source": [
    "def adv_matchup(row):\n",
    "    val = 0\n",
    "    if row['batter_hand'] == 'S':\n",
    "        val = 1\n",
    "    elif row['batter_hand'] == 'R' and row['pitcher_hand'] == 'L':\n",
    "        val = 1\n",
    "    elif row['batter_hand'] == 'L' and row['pitcher_hand'] == 'R':\n",
    "        val = 1\n",
    "    return val\n",
    "\n",
    "for file in os.scandir(\"data\\\\matchups\"):\n",
    "    matchups = pd.read_csv(file, index_col=0)\n",
    "    matchups['adv_ab'] = matchups.apply(adv_matchup, axis=1)\n",
    "    matchups.to_csv(f\"data\\\\matchups\\\\{file.name}\")\n"
   ]
  }
 ],
 "metadata": {
  "kernelspec": {
   "display_name": "Python 3.10.6 64-bit",
   "language": "python",
   "name": "python3"
  },
  "language_info": {
   "codemirror_mode": {
    "name": "ipython",
    "version": 3
   },
   "file_extension": ".py",
   "mimetype": "text/x-python",
   "name": "python",
   "nbconvert_exporter": "python",
   "pygments_lexer": "ipython3",
   "version": "3.10.6"
  },
  "orig_nbformat": 4,
  "vscode": {
   "interpreter": {
    "hash": "fb4569285eef3a3450cb62085a5b1e0da4bce0af555edc33dcf29baf3acc1368"
   }
  }
 },
 "nbformat": 4,
 "nbformat_minor": 2
}
