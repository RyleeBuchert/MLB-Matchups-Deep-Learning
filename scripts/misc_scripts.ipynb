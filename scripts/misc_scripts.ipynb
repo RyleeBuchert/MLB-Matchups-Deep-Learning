{
 "cells": [
  {
   "cell_type": "code",
   "execution_count": null,
   "metadata": {},
   "outputs": [],
   "source": [
    "import pandas as pd\n",
    "import statsapi\n",
    "import datetime\n",
    "import string\n",
    "import json\n",
    "import os\n",
    "\n",
    "from bs4 import BeautifulSoup\n",
    "import requests"
   ]
  },
  {
   "cell_type": "code",
   "execution_count": null,
   "metadata": {},
   "outputs": [],
   "source": [
    "# Boolean for advantageous matchups (L vs R)\n",
    "def adv_matchup(row):\n",
    "    val = 0\n",
    "    if row['batter_hand'] == 'S':\n",
    "        val = 1\n",
    "    elif row['batter_hand'] == 'R' and row['pitcher_hand'] == 'L':\n",
    "        val = 1\n",
    "    elif row['batter_hand'] == 'L' and row['pitcher_hand'] == 'R':\n",
    "        val = 1\n",
    "    return val\n",
    "\n",
    "for file in os.scandir(\"data\\\\matchups\"):\n",
    "    matchups = pd.read_csv(file, index_col=0)\n",
    "    matchups['adv_ab'] = matchups.apply(adv_matchup, axis=1)\n",
    "    matchups.to_csv(f\"data\\\\matchups\\\\{file.name}\")\n"
   ]
  },
  {
   "cell_type": "code",
   "execution_count": null,
   "metadata": {},
   "outputs": [],
   "source": [
    "# Change switch hitters to side\n",
    "def fix_switch(row):\n",
    "    hand = row['batter_hand']\n",
    "    if hand == 'S' and row['pitcher_hand'] == 'R':\n",
    "        hand = 'L'\n",
    "    elif hand == 'S' and row['pitcher_hand'] == 'L':\n",
    "        hand = 'R'\n",
    "    return(hand)\n",
    "\n",
    "matchups['batter_hand'] = matchups.apply(fix_switch, axis=1)\n",
    "matchups.to_csv(\"data\\\\matchups\\\\all_matchups.csv\")\n"
   ]
  }
 ],
 "metadata": {
  "kernelspec": {
   "display_name": "Python 3.10.6 64-bit",
   "language": "python",
   "name": "python3"
  },
  "language_info": {
   "name": "python",
   "version": "3.10.6"
  },
  "orig_nbformat": 4,
  "vscode": {
   "interpreter": {
    "hash": "fb4569285eef3a3450cb62085a5b1e0da4bce0af555edc33dcf29baf3acc1368"
   }
  }
 },
 "nbformat": 4,
 "nbformat_minor": 2
}
