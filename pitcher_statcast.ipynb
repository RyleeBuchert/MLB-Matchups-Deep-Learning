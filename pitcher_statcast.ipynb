{
 "cells": [
  {
   "cell_type": "code",
   "execution_count": 1,
   "metadata": {},
   "outputs": [],
   "source": [
    "import matplotlib.pyplot as plt\n",
    "import pybaseball as pyb\n",
    "import pandas as pd\n",
    "import requests\n",
    "from bs4 import BeautifulSoup\n",
    "\n",
    "from pybaseball import statcast_pitcher\n",
    "from pybaseball import playerid_lookup"
   ]
  },
  {
   "cell_type": "code",
   "execution_count": 2,
   "metadata": {},
   "outputs": [
    {
     "name": "stdout",
     "output_type": "stream",
     "text": [
      "Gathering Player Data\n"
     ]
    },
    {
     "name": "stderr",
     "output_type": "stream",
     "text": [
      "c:\\Users\\user\\AppData\\Local\\Programs\\Python\\Python39\\lib\\site-packages\\pybaseball\\cache\\cache.py:58: DtypeWarning: Columns (43) have mixed types.Specify dtype option on import or set low_memory=False.\n",
      "  result = func(*args, **kwargs)\n"
     ]
    }
   ],
   "source": [
    "kersh = statcast_pitcher('2015-01-01', '2022-12-31', 477132)\n",
    "kersh = kersh[['player_name','pitcher','game_year','pitch_type','pitch_name',\n",
    "               'release_speed','effective_speed','release_pos_x','release_pos_z',\n",
    "               'release_extension','release_spin_rate','spin_axis','zone']]\n"
   ]
  },
  {
   "cell_type": "code",
   "execution_count": 3,
   "metadata": {},
   "outputs": [],
   "source": [
    "kersh_summary = kersh.groupby(['game_year', 'pitch_type']).mean()\n"
   ]
  },
  {
   "cell_type": "code",
   "execution_count": 14,
   "metadata": {},
   "outputs": [],
   "source": [
    "url = \"https://baseballsavant.mlb.com/savant-player/clayton-kershaw-477132?stats=statcast-r-pitching-mlb\"\n",
    "soup = BeautifulSoup(requests.get(url).content, 'html5lib')"
   ]
  },
  {
   "cell_type": "code",
   "execution_count": 5,
   "metadata": {},
   "outputs": [],
   "source": [
    "# Get pitch movement data\n",
    "pitch_movement = soup.find_all(\"table\", {\"id\": \"pitchMovement\"})[0].contents[3].contents\n",
    "\n",
    "pitch_movement_data = []\n",
    "for row in pitch_movement:\n",
    "    if isinstance(row, str):\n",
    "        continue\n",
    "\n",
    "    pitch_movement_data.append([record.contents[0] for record in row.find_all(\"span\") if record.contents])\n",
    "\n",
    "pitch_movement_data = pd.DataFrame(pitch_movement_data, columns=['year','pitch','hand','count','speed',\n",
    "                                                               'vertical_movement','vertical_movement_vs_avg','vertical_movement_pct_vs_avg',\n",
    "                                                               'horizontal_movement','horizontal_movement_vs_avg','horizontal_movement_pct_vs_avg'])\n"
   ]
  },
  {
   "cell_type": "code",
   "execution_count": 9,
   "metadata": {},
   "outputs": [],
   "source": [
    "# Get run value data\n",
    "run_values = soup.find_all(\"table\", {\"id\": \"runValues\"})[0].contents[3].contents\n",
    "\n",
    "run_values_data = []\n",
    "for row in run_values:\n",
    "    if isinstance(row, str):\n",
    "        continue\n",
    "\n",
    "    record_data = []\n",
    "    record_data.append(row.contents[1].contents[0])\n",
    "\n",
    "    count = 0\n",
    "    for record in row.find_all(\"span\"):\n",
    "        if count == 2:\n",
    "            record_data.append(row.contents[9].contents[0])\n",
    "        \n",
    "        if record.contents:\n",
    "            record_data.append(record.contents[0])\n",
    "        \n",
    "        count += 1\n",
    "\n",
    "    run_values_data.append(record_data)\n",
    "\n",
    "run_values_data = pd.DataFrame(run_values_data, columns=['year','pitch','rv_100','run_value','count','usage',\n",
    "                                                         'PA','BA','SLG','wOBA','whiff_pct','k_pct','put_away_pct',\n",
    "                                                         'xBA','xSLG','xwOBA','hard_hit_pct'])\n"
   ]
  },
  {
   "cell_type": "code",
   "execution_count": 7,
   "metadata": {},
   "outputs": [],
   "source": [
    "# Get spin direction data\n",
    "spin_axis = soup.find_all(\"table\", {\"id\": \"spinAxis\"})[0].contents[3].contents\n",
    "\n",
    "spin_axis_data = []\n",
    "for row in spin_axis:\n",
    "    if isinstance(row, str):\n",
    "        continue\n",
    "\n",
    "    record_data = []\n",
    "    record_data.append(row.contents[1].contents[0])\n",
    "\n",
    "    for record in row.find_all(\"span\"):\n",
    "        if record.contents:\n",
    "            record_data.append(record.contents[0])\n",
    "\n",
    "    spin_axis_data.append(record_data)\n",
    "\n",
    "spin_axis_data = pd.DataFrame(spin_axis_data, columns=['year','pitch','count','speed','active_spin_pct',\n",
    "                                                       'total_movement','spin_based','observed','deviation'])\n"
   ]
  }
 ],
 "metadata": {
  "kernelspec": {
   "display_name": "Python 3.9.1 64-bit",
   "language": "python",
   "name": "python3"
  },
  "language_info": {
   "codemirror_mode": {
    "name": "ipython",
    "version": 3
   },
   "file_extension": ".py",
   "mimetype": "text/x-python",
   "name": "python",
   "nbconvert_exporter": "python",
   "pygments_lexer": "ipython3",
   "version": "3.9.1"
  },
  "orig_nbformat": 4,
  "vscode": {
   "interpreter": {
    "hash": "82ed002fa2d4956f5c6aec99bcefe0f73a9f79882f3c9e2319b14958a5896ac5"
   }
  }
 },
 "nbformat": 4,
 "nbformat_minor": 2
}
