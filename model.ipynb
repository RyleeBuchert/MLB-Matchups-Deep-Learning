{
 "cells": [
  {
   "cell_type": "code",
   "execution_count": 1,
   "metadata": {},
   "outputs": [],
   "source": [
    "import tensorflow as tf\n",
    "import pandas as pd\n",
    "import numpy as np"
   ]
  },
  {
   "cell_type": "code",
   "execution_count": 2,
   "metadata": {},
   "outputs": [],
   "source": [
    "matchups = pd.read_csv(\"data\\\\matchups\\\\model_matchups2.csv\", index_col=0).dropna()"
   ]
  },
  {
   "cell_type": "code",
   "execution_count": 3,
   "metadata": {},
   "outputs": [],
   "source": [
    "y = matchups['outcome']\n",
    "x_train = matchups.drop(columns=['outcome','inning','game_code','batter_game_code','pitcher_game_code','batter_id','pitcher_id','b_pos'])"
   ]
  },
  {
   "cell_type": "code",
   "execution_count": 4,
   "metadata": {},
   "outputs": [],
   "source": [
    "from sklearn import preprocessing\n",
    "from sklearn.decomposition import PCA\n",
    "\n",
    "# Change outcome labels to one-hot vectors\n",
    "le = preprocessing.LabelEncoder()\n",
    "le.fit(y)\n",
    "labels_enc = le.transform(y)\n",
    "labels = tf.keras.utils.to_categorical(labels_enc)\n",
    "\n",
    "# Apply standard scaling to features\n",
    "ss = preprocessing.StandardScaler()\n",
    "x_standardized = ss.fit_transform(x_train)\n",
    "\n",
    "# Reduce dimensionality of input data\n",
    "# pca = PCA(n_components=50)\n",
    "# principal_components = pca.fit_transform(x_standardized)\n",
    "# x_standardized = pd.DataFrame(data = principal_components).to_numpy()"
   ]
  },
  {
   "cell_type": "code",
   "execution_count": 5,
   "metadata": {},
   "outputs": [
    {
     "name": "stdout",
     "output_type": "stream",
     "text": [
      "Model: \"model\"\n",
      "_________________________________________________________________\n",
      " Layer (type)                Output Shape              Param #   \n",
      "=================================================================\n",
      " numeric_inputs (InputLayer)  [(None, 73)]             0         \n",
      "                                                                 \n",
      " dropout (Dropout)           (None, 73)                0         \n",
      "                                                                 \n",
      " dense (Dense)               (None, 1500)              111000    \n",
      "                                                                 \n",
      " batch_normalization (BatchN  (None, 1500)             6000      \n",
      " ormalization)                                                   \n",
      "                                                                 \n",
      " dropout_1 (Dropout)         (None, 1500)              0         \n",
      "                                                                 \n",
      " dense_1 (Dense)             (None, 500)               750500    \n",
      "                                                                 \n",
      " batch_normalization_1 (Batc  (None, 500)              2000      \n",
      " hNormalization)                                                 \n",
      "                                                                 \n",
      " dropout_2 (Dropout)         (None, 500)               0         \n",
      "                                                                 \n",
      " dense_2 (Dense)             (None, 250)               125250    \n",
      "                                                                 \n",
      " batch_normalization_2 (Batc  (None, 250)              1000      \n",
      " hNormalization)                                                 \n",
      "                                                                 \n",
      " dropout_3 (Dropout)         (None, 250)               0         \n",
      "                                                                 \n",
      " dense_3 (Dense)             (None, 100)               25100     \n",
      "                                                                 \n",
      " batch_normalization_3 (Batc  (None, 100)              400       \n",
      " hNormalization)                                                 \n",
      "                                                                 \n",
      " dropout_4 (Dropout)         (None, 100)               0         \n",
      "                                                                 \n",
      " output (Dense)              (None, 11)                1111      \n",
      "                                                                 \n",
      "=================================================================\n",
      "Total params: 1,022,361\n",
      "Trainable params: 1,017,661\n",
      "Non-trainable params: 4,700\n",
      "_________________________________________________________________\n"
     ]
    }
   ],
   "source": [
    "p = .05\n",
    "inputs = tf.keras.layers.Input((73,), name='numeric_inputs')\n",
    "\n",
    "x = tf.keras.layers.Dropout(p)(inputs)\n",
    "x = tf.keras.layers.Dense(1500, activation='relu')(x)\n",
    "\n",
    "x = tf.keras.layers.BatchNormalization()(x)\n",
    "x = tf.keras.layers.Dropout(p)(x)\n",
    "x = tf.keras.layers.Dense(500, activation='relu')(x)\n",
    "\n",
    "x = tf.keras.layers.BatchNormalization()(x)\n",
    "x = tf.keras.layers.Dropout(p)(x)\n",
    "x = tf.keras.layers.Dense(250, activation='relu')(x)\n",
    "\n",
    "x = tf.keras.layers.BatchNormalization()(x)\n",
    "x = tf.keras.layers.Dropout(p)(x)\n",
    "x = tf.keras.layers.Dense(100, activation='relu')(x)\n",
    "\n",
    "x = tf.keras.layers.BatchNormalization()(x)\n",
    "x = tf.keras.layers.Dropout(p)(x)\n",
    "out = tf.keras.layers.Dense(11, activation='softmax', name='output')(x)\n",
    "\n",
    "model = tf.keras.models.Model(inputs=inputs, outputs=out)\n",
    "model.compile(optimizer='adam',\n",
    "              loss='categorical_crossentropy',\n",
    "              metrics=['accuracy'])\n",
    "model.summary()"
   ]
  },
  {
   "cell_type": "code",
   "execution_count": 6,
   "metadata": {},
   "outputs": [
    {
     "name": "stdout",
     "output_type": "stream",
     "text": [
      "Epoch 1/10\n",
      "78/78 [==============================] - 2s 10ms/step - loss: 1.7457 - accuracy: 0.4938\n",
      "Epoch 2/10\n",
      "78/78 [==============================] - 1s 10ms/step - loss: 1.2850 - accuracy: 0.5697\n",
      "Epoch 3/10\n",
      "78/78 [==============================] - 1s 10ms/step - loss: 1.2010 - accuracy: 0.5544\n",
      "Epoch 4/10\n",
      "78/78 [==============================] - 1s 10ms/step - loss: 1.1208 - accuracy: 0.5608\n",
      "Epoch 5/10\n",
      "78/78 [==============================] - 1s 10ms/step - loss: 1.1143 - accuracy: 0.5617\n",
      "Epoch 6/10\n",
      "78/78 [==============================] - 1s 10ms/step - loss: 1.1057 - accuracy: 0.5573\n",
      "Epoch 7/10\n",
      "78/78 [==============================] - 1s 10ms/step - loss: 1.0783 - accuracy: 0.5694\n",
      "Epoch 8/10\n",
      "78/78 [==============================] - 1s 10ms/step - loss: 1.0647 - accuracy: 0.5691\n",
      "Epoch 9/10\n",
      "78/78 [==============================] - 1s 10ms/step - loss: 1.0578 - accuracy: 0.5712\n",
      "Epoch 10/10\n",
      "78/78 [==============================] - 1s 10ms/step - loss: 1.0357 - accuracy: 0.5792\n"
     ]
    },
    {
     "data": {
      "text/plain": [
       "<keras.callbacks.History at 0x1e3c30f1e40>"
      ]
     },
     "execution_count": 6,
     "metadata": {},
     "output_type": "execute_result"
    }
   ],
   "source": [
    "def bootstrap_sample_generator(batch_size):\n",
    "    while True:\n",
    "        batch_idx = np.random.choice(x_standardized.shape[0], batch_size)\n",
    "        yield ({'numeric_inputs': x_standardized[batch_idx]},\n",
    "               {'output': labels[batch_idx]})\n",
    "\n",
    "batch_size = 128\n",
    "\n",
    "model.fit(\n",
    "    bootstrap_sample_generator(batch_size),\n",
    "    steps_per_epoch=10_000 // batch_size,\n",
    "    epochs=10,\n",
    "    max_queue_size=10  \n",
    ")\n"
   ]
  }
 ],
 "metadata": {
  "kernelspec": {
   "display_name": "Python 3.10.6 64-bit",
   "language": "python",
   "name": "python3"
  },
  "language_info": {
   "codemirror_mode": {
    "name": "ipython",
    "version": 3
   },
   "file_extension": ".py",
   "mimetype": "text/x-python",
   "name": "python",
   "nbconvert_exporter": "python",
   "pygments_lexer": "ipython3",
   "version": "3.10.6"
  },
  "orig_nbformat": 4,
  "vscode": {
   "interpreter": {
    "hash": "fb4569285eef3a3450cb62085a5b1e0da4bce0af555edc33dcf29baf3acc1368"
   }
  }
 },
 "nbformat": 4,
 "nbformat_minor": 2
}
