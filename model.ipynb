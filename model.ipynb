{
 "cells": [
  {
   "cell_type": "code",
   "execution_count": 1,
   "metadata": {},
   "outputs": [],
   "source": [
    "import tensorflow as tf\n",
    "import pandas as pd\n",
    "import numpy as np"
   ]
  },
  {
   "cell_type": "code",
   "execution_count": 4,
   "metadata": {},
   "outputs": [],
   "source": [
    "matchups = pd.read_csv(\"data\\\\matchups\\\\model_matchups.csv\", index_col=0).dropna()"
   ]
  },
  {
   "cell_type": "code",
   "execution_count": 5,
   "metadata": {},
   "outputs": [],
   "source": [
    "y = matchups['outcome']\n",
    "x_train = matchups.drop(columns=['outcome','inning','game_code','batter_game_code','pitcher_game_code','batter_id','pitcher_id','b_pos'])"
   ]
  },
  {
   "cell_type": "code",
   "execution_count": 6,
   "metadata": {},
   "outputs": [],
   "source": [
    "from sklearn import preprocessing\n",
    "from sklearn.decomposition import PCA\n",
    "\n",
    "# Change outcome labels to one-hot vectors\n",
    "le = preprocessing.LabelEncoder()\n",
    "labels_enc = le.fit_transform(y)\n",
    "labels = tf.keras.utils.to_categorical(labels_enc)\n",
    "\n",
    "# Apply standard scaling to features\n",
    "ss = preprocessing.StandardScaler()\n",
    "x_standardized = ss.fit_transform(x_train)\n",
    "\n",
    "# Reduce dimensionality of input data\n",
    "# pca = PCA(n_components=50)\n",
    "# principal_components = pca.fit_transform(x_standardized)\n",
    "# x_standardized = pd.DataFrame(data = principal_components).to_numpy()"
   ]
  },
  {
   "cell_type": "code",
   "execution_count": 10,
   "metadata": {},
   "outputs": [
    {
     "name": "stdout",
     "output_type": "stream",
     "text": [
      "Model: \"model_1\"\n",
      "_________________________________________________________________\n",
      " Layer (type)                Output Shape              Param #   \n",
      "=================================================================\n",
      " numeric_inputs (InputLayer)  [(None, 73)]             0         \n",
      "                                                                 \n",
      " dropout_5 (Dropout)         (None, 73)                0         \n",
      "                                                                 \n",
      " dense_4 (Dense)             (None, 100)               7400      \n",
      "                                                                 \n",
      " batch_normalization_4 (Batc  (None, 100)              400       \n",
      " hNormalization)                                                 \n",
      "                                                                 \n",
      " dropout_6 (Dropout)         (None, 100)               0         \n",
      "                                                                 \n",
      " output (Dense)              (None, 55)                5555      \n",
      "                                                                 \n",
      "=================================================================\n",
      "Total params: 13,355\n",
      "Trainable params: 13,155\n",
      "Non-trainable params: 200\n",
      "_________________________________________________________________\n"
     ]
    }
   ],
   "source": [
    "p = .05\n",
    "inputs = tf.keras.layers.Input((73,), name='numeric_inputs')\n",
    "\n",
    "x = tf.keras.layers.Dropout(p)(inputs)\n",
    "x = tf.keras.layers.Dense(2500, activation='relu')(x)\n",
    "\n",
    "x = tf.keras.layers.BatchNormalization()(x)\n",
    "x = tf.keras.layers.Dropout(p)(x)\n",
    "x = tf.keras.layers.Dense(500, activation='relu')(x)\n",
    "\n",
    "x = tf.keras.layers.BatchNormalization()(x)\n",
    "x = tf.keras.layers.Dropout(p)(x)\n",
    "x = tf.keras.layers.Dense(250, activation='relu')(x)\n",
    "\n",
    "x = tf.keras.layers.BatchNormalization()(x)\n",
    "x = tf.keras.layers.Dropout(p)(x)\n",
    "x = tf.keras.layers.Dense(100, activation='relu')(x)\n",
    "\n",
    "x = tf.keras.layers.BatchNormalization()(x)\n",
    "x = tf.keras.layers.Dropout(p)(x)\n",
    "out = tf.keras.layers.Dense(55, activation='softmax', name='output')(x)\n",
    "\n",
    "model = tf.keras.models.Model(inputs=inputs, outputs=out)\n",
    "model.compile(optimizer='adam',\n",
    "              loss='categorical_crossentropy',\n",
    "              metrics=['accuracy'])\n",
    "model.summary()"
   ]
  },
  {
   "cell_type": "code",
   "execution_count": 11,
   "metadata": {},
   "outputs": [
    {
     "name": "stdout",
     "output_type": "stream",
     "text": [
      "Epoch 1/25\n",
      "78/78 [==============================] - 1s 2ms/step - loss: 3.8544 - accuracy: 0.1321\n",
      "Epoch 2/25\n",
      "78/78 [==============================] - 0s 2ms/step - loss: 3.0637 - accuracy: 0.2502\n",
      "Epoch 3/25\n",
      "78/78 [==============================] - 0s 2ms/step - loss: 2.6637 - accuracy: 0.2782\n",
      "Epoch 4/25\n",
      "78/78 [==============================] - 0s 2ms/step - loss: 2.5147 - accuracy: 0.2763\n",
      "Epoch 5/25\n",
      "78/78 [==============================] - 0s 2ms/step - loss: 2.4346 - accuracy: 0.2831\n",
      "Epoch 6/25\n",
      "78/78 [==============================] - 0s 2ms/step - loss: 2.4059 - accuracy: 0.2847\n",
      "Epoch 7/25\n",
      "78/78 [==============================] - 0s 2ms/step - loss: 2.3764 - accuracy: 0.2882\n",
      "Epoch 8/25\n",
      "78/78 [==============================] - 0s 2ms/step - loss: 2.3786 - accuracy: 0.2865\n",
      "Epoch 9/25\n",
      "78/78 [==============================] - 0s 2ms/step - loss: 2.3419 - accuracy: 0.2943\n",
      "Epoch 10/25\n",
      "78/78 [==============================] - 0s 2ms/step - loss: 2.3472 - accuracy: 0.2944\n",
      "Epoch 11/25\n",
      "78/78 [==============================] - 0s 2ms/step - loss: 2.3424 - accuracy: 0.2921\n",
      "Epoch 12/25\n",
      "78/78 [==============================] - 0s 2ms/step - loss: 2.3196 - accuracy: 0.2954\n",
      "Epoch 13/25\n",
      "78/78 [==============================] - 0s 2ms/step - loss: 2.3559 - accuracy: 0.2873\n",
      "Epoch 14/25\n",
      "78/78 [==============================] - 0s 2ms/step - loss: 2.3211 - accuracy: 0.2968\n",
      "Epoch 15/25\n",
      "78/78 [==============================] - 0s 2ms/step - loss: 2.3038 - accuracy: 0.2940\n",
      "Epoch 16/25\n",
      "78/78 [==============================] - 0s 2ms/step - loss: 2.3085 - accuracy: 0.3011\n",
      "Epoch 17/25\n",
      "78/78 [==============================] - 0s 2ms/step - loss: 2.3193 - accuracy: 0.2951\n",
      "Epoch 18/25\n",
      "78/78 [==============================] - 0s 2ms/step - loss: 2.2924 - accuracy: 0.2963\n",
      "Epoch 19/25\n",
      "78/78 [==============================] - 0s 2ms/step - loss: 2.3018 - accuracy: 0.3000\n",
      "Epoch 20/25\n",
      "78/78 [==============================] - 0s 2ms/step - loss: 2.2954 - accuracy: 0.2943\n",
      "Epoch 21/25\n",
      "78/78 [==============================] - 0s 2ms/step - loss: 2.2961 - accuracy: 0.3006\n",
      "Epoch 22/25\n",
      "78/78 [==============================] - 0s 2ms/step - loss: 2.2879 - accuracy: 0.2947\n",
      "Epoch 23/25\n",
      "78/78 [==============================] - 0s 2ms/step - loss: 2.2872 - accuracy: 0.2988\n",
      "Epoch 24/25\n",
      "78/78 [==============================] - 0s 2ms/step - loss: 2.2652 - accuracy: 0.3084\n",
      "Epoch 25/25\n",
      "78/78 [==============================] - 0s 2ms/step - loss: 2.2905 - accuracy: 0.3001\n"
     ]
    },
    {
     "data": {
      "text/plain": [
       "<keras.callbacks.History at 0x135884c2c80>"
      ]
     },
     "execution_count": 11,
     "metadata": {},
     "output_type": "execute_result"
    }
   ],
   "source": [
    "def bootstrap_sample_generator(batch_size):\n",
    "    while True:\n",
    "        batch_idx = np.random.choice(x_standardized.shape[0], batch_size)\n",
    "        yield ({'numeric_inputs': x_standardized[batch_idx]},\n",
    "               {'output': labels[batch_idx]})\n",
    "\n",
    "batch_size = 256\n",
    "\n",
    "model.fit(\n",
    "    bootstrap_sample_generator(batch_size),\n",
    "    steps_per_epoch=20_000 // batch_size,\n",
    "    epochs=25,\n",
    "    max_queue_size=20  \n",
    ")\n"
   ]
  }
 ],
 "metadata": {
  "kernelspec": {
   "display_name": "Python 3.10.6 64-bit",
   "language": "python",
   "name": "python3"
  },
  "language_info": {
   "codemirror_mode": {
    "name": "ipython",
    "version": 3
   },
   "file_extension": ".py",
   "mimetype": "text/x-python",
   "name": "python",
   "nbconvert_exporter": "python",
   "pygments_lexer": "ipython3",
   "version": "3.10.6"
  },
  "orig_nbformat": 4,
  "vscode": {
   "interpreter": {
    "hash": "fb4569285eef3a3450cb62085a5b1e0da4bce0af555edc33dcf29baf3acc1368"
   }
  }
 },
 "nbformat": 4,
 "nbformat_minor": 2
}
