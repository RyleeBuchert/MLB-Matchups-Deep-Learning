{
 "cells": [
  {
   "cell_type": "code",
   "execution_count": 1,
   "metadata": {},
   "outputs": [],
   "source": [
    "import tensorflow as tf\n",
    "import pandas as pd\n",
    "import numpy as np"
   ]
  },
  {
   "cell_type": "code",
   "execution_count": 12,
   "metadata": {},
   "outputs": [],
   "source": [
    "matchups = pd.read_csv(\"data\\\\matchups\\\\model_matchups2.csv\", index_col=0)"
   ]
  },
  {
   "cell_type": "code",
   "execution_count": 13,
   "metadata": {},
   "outputs": [],
   "source": [
    "y = matchups['outcome']\n",
    "x_train = matchups.drop(columns=['outcome','game_code','batter_game_code','pitcher_game_code','batter_id','pitcher_id','b_pos'])"
   ]
  },
  {
   "cell_type": "code",
   "execution_count": 14,
   "metadata": {},
   "outputs": [
    {
     "data": {
      "text/plain": [
       "array(['GO', '2B', '1B', 'BB', 'HBP', 'SO', 'HR', 'E', 'IBB', '3B', 'DG'],\n",
       "      dtype=object)"
      ]
     },
     "execution_count": 14,
     "metadata": {},
     "output_type": "execute_result"
    }
   ],
   "source": [
    "y.unique()"
   ]
  },
  {
   "cell_type": "code",
   "execution_count": 15,
   "metadata": {},
   "outputs": [],
   "source": [
    "from sklearn import preprocessing\n",
    "\n",
    "le = preprocessing.LabelEncoder()\n",
    "le.fit(y)\n",
    "labels_enc = le.transform(y)\n",
    "labels = tf.keras.utils.to_categorical(labels_enc)\n",
    "\n",
    "ss = preprocessing.StandardScaler()\n",
    "x_standardized = ss.fit_transform(x_train)"
   ]
  },
  {
   "cell_type": "code",
   "execution_count": 32,
   "metadata": {},
   "outputs": [],
   "source": [
    "p = .1\n",
    "inputs = tf.keras.layers.Input((74,), name='numeric_inputs')\n",
    "\n",
    "x = tf.keras.layers.Dropout(p)(inputs)\n",
    "x = tf.keras.layers.Dense(1500, activation='relu')(x)\n",
    "\n",
    "x = tf.keras.layers.BatchNormalization()(x)\n",
    "x = tf.keras.layers.Dropout(p)(x)\n",
    "x = tf.keras.layers.Dense(500, activation='relu')(x)\n",
    "\n",
    "x = tf.keras.layers.BatchNormalization()(x)\n",
    "x = tf.keras.layers.Dropout(p)(x)\n",
    "x = tf.keras.layers.Dense(250, activation='relu')(x)\n",
    "\n",
    "x = tf.keras.layers.BatchNormalization()(x)\n",
    "x = tf.keras.layers.Dropout(p)(x)\n",
    "x = tf.keras.layers.Dense(50, activation='relu')(x)\n",
    "\n",
    "x = tf.keras.layers.BatchNormalization()(x)\n",
    "x = tf.keras.layers.Dropout(p)(x)\n",
    "out = tf.keras.layers.Dense(11, activation='softmax', name='output')(x)"
   ]
  },
  {
   "cell_type": "code",
   "execution_count": 33,
   "metadata": {},
   "outputs": [
    {
     "name": "stdout",
     "output_type": "stream",
     "text": [
      "Model: \"model_6\"\n",
      "_________________________________________________________________\n",
      " Layer (type)                Output Shape              Param #   \n",
      "=================================================================\n",
      " numeric_inputs (InputLayer)  [(None, 74)]             0         \n",
      "                                                                 \n",
      " dropout_28 (Dropout)        (None, 74)                0         \n",
      "                                                                 \n",
      " dense_23 (Dense)            (None, 1500)              112500    \n",
      "                                                                 \n",
      " batch_normalization_23 (Bat  (None, 1500)             6000      \n",
      " chNormalization)                                                \n",
      "                                                                 \n",
      " dropout_29 (Dropout)        (None, 1500)              0         \n",
      "                                                                 \n",
      " dense_24 (Dense)            (None, 500)               750500    \n",
      "                                                                 \n",
      " batch_normalization_24 (Bat  (None, 500)              2000      \n",
      " chNormalization)                                                \n",
      "                                                                 \n",
      " dropout_30 (Dropout)        (None, 500)               0         \n",
      "                                                                 \n",
      " dense_25 (Dense)            (None, 250)               125250    \n",
      "                                                                 \n",
      " batch_normalization_25 (Bat  (None, 250)              1000      \n",
      " chNormalization)                                                \n",
      "                                                                 \n",
      " dropout_31 (Dropout)        (None, 250)               0         \n",
      "                                                                 \n",
      " dense_26 (Dense)            (None, 50)                12550     \n",
      "                                                                 \n",
      " batch_normalization_26 (Bat  (None, 50)               200       \n",
      " chNormalization)                                                \n",
      "                                                                 \n",
      " dropout_32 (Dropout)        (None, 50)                0         \n",
      "                                                                 \n",
      " output (Dense)              (None, 11)                561       \n",
      "                                                                 \n",
      "=================================================================\n",
      "Total params: 1,010,561\n",
      "Trainable params: 1,005,961\n",
      "Non-trainable params: 4,600\n",
      "_________________________________________________________________\n"
     ]
    }
   ],
   "source": [
    "model = tf.keras.models.Model(inputs=inputs, outputs=out)\n",
    "model.compile(optimizer='adam',\n",
    "              loss='categorical_crossentropy',\n",
    "              metrics=['accuracy'])\n",
    "model.summary()"
   ]
  },
  {
   "cell_type": "code",
   "execution_count": 34,
   "metadata": {},
   "outputs": [
    {
     "name": "stdout",
     "output_type": "stream",
     "text": [
      "Epoch 1/10\n",
      "78/78 [==============================] - 2s 9ms/step - loss: nan - accuracy: 0.1429\n",
      "Epoch 2/10\n",
      "78/78 [==============================] - 1s 9ms/step - loss: nan - accuracy: 0.1473\n",
      "Epoch 3/10\n",
      "78/78 [==============================] - 1s 9ms/step - loss: nan - accuracy: 0.1464\n",
      "Epoch 4/10\n",
      "78/78 [==============================] - 1s 9ms/step - loss: nan - accuracy: 0.1459\n",
      "Epoch 5/10\n",
      "78/78 [==============================] - 1s 9ms/step - loss: nan - accuracy: 0.1457\n",
      "Epoch 6/10\n",
      "78/78 [==============================] - 1s 9ms/step - loss: nan - accuracy: 0.1421\n",
      "Epoch 7/10\n",
      "78/78 [==============================] - 1s 9ms/step - loss: nan - accuracy: 0.1367\n",
      "Epoch 8/10\n",
      "78/78 [==============================] - 1s 9ms/step - loss: nan - accuracy: 0.1407\n",
      "Epoch 9/10\n",
      "78/78 [==============================] - 1s 9ms/step - loss: nan - accuracy: 0.1377\n",
      "Epoch 10/10\n",
      "78/78 [==============================] - 1s 9ms/step - loss: nan - accuracy: 0.1339\n"
     ]
    },
    {
     "data": {
      "text/plain": [
       "<keras.callbacks.History at 0x1b442f88640>"
      ]
     },
     "execution_count": 34,
     "metadata": {},
     "output_type": "execute_result"
    }
   ],
   "source": [
    "def bootstrap_sample_generator(batch_size):\n",
    "    while True:\n",
    "        batch_idx = np.random.choice(x_standardized.shape[0], batch_size)\n",
    "        yield ({'numeric_inputs': x_standardized[batch_idx]},\n",
    "               {'output': labels[batch_idx]})\n",
    "\n",
    "batch_size = 128\n",
    "\n",
    "model.fit(\n",
    "    bootstrap_sample_generator(batch_size),\n",
    "    steps_per_epoch=10_000 // batch_size,\n",
    "    epochs=10,\n",
    "    max_queue_size=10  \n",
    ")\n"
   ]
  }
 ],
 "metadata": {
  "kernelspec": {
   "display_name": "Python 3.10.6 64-bit",
   "language": "python",
   "name": "python3"
  },
  "language_info": {
   "codemirror_mode": {
    "name": "ipython",
    "version": 3
   },
   "file_extension": ".py",
   "mimetype": "text/x-python",
   "name": "python",
   "nbconvert_exporter": "python",
   "pygments_lexer": "ipython3",
   "version": "3.10.6"
  },
  "orig_nbformat": 4,
  "vscode": {
   "interpreter": {
    "hash": "fb4569285eef3a3450cb62085a5b1e0da4bce0af555edc33dcf29baf3acc1368"
   }
  }
 },
 "nbformat": 4,
 "nbformat_minor": 2
}
